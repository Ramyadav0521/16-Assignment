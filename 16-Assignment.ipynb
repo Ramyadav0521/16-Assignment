{
 "cells": [
  {
   "cell_type": "code",
   "execution_count": 1,
   "id": "714b2117-6a85-45d2-addd-d291a355a842",
   "metadata": {},
   "outputs": [],
   "source": [
    "# Q1. What is a database? Differentiate between SQL and NoSQL databases."
   ]
  },
  {
   "cell_type": "code",
   "execution_count": 2,
   "id": "9bdd42d6-a589-424b-9d49-ae9633f0eb7a",
   "metadata": {},
   "outputs": [],
   "source": [
    "# What is Data?\n",
    "# Data is a collection of a distinct small unit of information. It can be used in a variety of forms like text, numbers, media, \n",
    "# bytes, etc. it can be stored in pieces of paper or electronic memory, etc.\n",
    "\n",
    "# What is Database?\n",
    "# A database is an organized collection of data, so that it can be easily accessed and managed.\n",
    "\n",
    "# You can organize data into tables, rows, columns, and index it to make it easier to find relevant information.\n",
    "\n",
    "# Database handlers create a database in such a way that only one set of software program provides access of data to all the users.\n",
    "\n",
    "# The main purpose of the database is to operate a large amount of information by storing, retrieving, and managing data.\n",
    "\n",
    "# Differentiate between SQL and NoSQL databases.\n",
    "# SQL:-\n",
    "#     1. SQL is genererally used in Relational database management system.\n",
    "#     2. Structured data can be store in tables.\n",
    "#     3. The scheman are static\n",
    "#     4. Schemas are rigid and bound to relationships \n",
    "#     5. Helpful to design complex queries\n",
    "# NoSql:-\n",
    "#        1. NOSQL is used for Non relational, distributed database system.\n",
    "#        2. using Json data, unstructured data can be stored.\n",
    "#        3. The Schemas are Dynamic \n",
    "#        4. Schemas are non-rigid, they are flexibles\n",
    "#        5. no interface to prepare complex query\n",
    "        \n",
    "    "
   ]
  },
  {
   "cell_type": "code",
   "execution_count": 3,
   "id": "7963e4d0-9590-4501-adf2-ddb79b30d529",
   "metadata": {},
   "outputs": [],
   "source": [
    "# Q2. What is DDL? Explain why CREATE, DROP, ALTER, and TRUNCATE are used with an example."
   ]
  },
  {
   "cell_type": "code",
   "execution_count": 4,
   "id": "b6d7be2e-b759-480b-a80b-66393c9bcd38",
   "metadata": {},
   "outputs": [],
   "source": [
    "# DDL Commands in SQL\n",
    "# DDL is an abbreviation of Data Definition Language.\n",
    "\n",
    "# The DDL Commands in Structured Query Language are used to create and modify the schema of the database and its objects. The syntax of DDL commands is predefined for describing the data. The commands of Data Definition Language deal with how the data should exist in the database.\n",
    "\n",
    "# Following are the five DDL commands in SQL:\n",
    "\n",
    "# CREATE Command\n",
    "# DROP Command\n",
    "# ALTER Command\n",
    "# TRUNCATE Command\n",
    "# RENAME Command\n",
    "\n",
    "# CREATE Command\n",
    "# CREATE is a DDL command used to create databases, tables, triggers and other database objects.\n",
    "# Examples of CREATE Command in SQL\n",
    "# Example 1: This example describes how to create a new database using the CREATE DDL command.\n",
    "\n",
    "# Syntax to Create a Database:--\n",
    "    # CREATE Database Database_name;\n",
    "     # Create Database books;\n",
    "        \n",
    "# DROP Command\n",
    "# DROP is a DDL command used to delete/remove the database objects from the SQL database.\n",
    "# We can easily remove the entire table, view, or index from the database using this DDL command.\n",
    "\n",
    "# DROP DATABASE Database_Name;  \n",
    "\n",
    "# ALTER Command\n",
    "# ALTER is a DDL command which changes or modifies the existing structure of the database, and it also changes the schema of database objects.\n",
    "# We can also add and drop constraints of the table using the ALTER command.\n",
    "\n",
    "# ALTER TABLE Student ADD Father's_Name Varchar(60);  \n",
    "\n",
    "# TRUNCATE Command\n",
    "# TRUNCATE is another DDL command which deletes or removes all the records from the table.\n",
    "# This command also removes the space allocated for storing the table records.\n",
    "# Syntax of TRUNCATE command\n",
    "# TRUNCATE TABLE Table_Name;  "
   ]
  },
  {
   "cell_type": "code",
   "execution_count": null,
   "id": "72a27116-cb26-4651-8ce0-4b83c67d5158",
   "metadata": {},
   "outputs": [],
   "source": []
  },
  {
   "cell_type": "code",
   "execution_count": 5,
   "id": "2098de97-621e-4435-a31a-a506ea88d923",
   "metadata": {},
   "outputs": [],
   "source": [
    "# Q3. What is DML? Explain INSERT, UPDATE, and DELETE with an example."
   ]
  },
  {
   "cell_type": "code",
   "execution_count": 6,
   "id": "ed53223e-4549-4234-8ac9-76db9378ce31",
   "metadata": {},
   "outputs": [],
   "source": [
    "# DML Commands in SQL\n",
    "# DML is an abbreviation of Data Manipulation Language.\n",
    "# The DML commands in Structured Query Language change the data present in the SQL database. We can easily access, store, modify, update and delete the existing records from the database using DML commands.\n",
    "# Following are the four main DML commands in SQL:\n",
    "# SELECT Command\n",
    "# INSERT Command\n",
    "# UPDATE Command\n",
    "# DELETE Command\n",
    "# SELECT DML Command\n",
    "# SELECT is the most important data manipulation command in Structured Query Language. The SELECT command shows the records of the specified table. It also shows the particular record of a particular column by using the WHERE clause.\n",
    "# Syntax of SELECT DML command\n",
    "# SELECT column_Name_1, column_Name_2, ….., column_Name_N FROM Name_of_table; \n",
    "# INSERT DML Command\n",
    "# INSERT is another most important data manipulation command in Structured Query Language, which allows users to insert data in database tables.\n",
    "\n",
    "# UPDATE DML Command\n",
    "# UPDATE is another most important data manipulation command in Structured Query Language, \n",
    "# which allows users to update or modify the existing data in database tables.\n",
    "# UPDATE Table_name SET [column_name1= value_1, ….., column_nameN = value_N] WHERE CONDITION; \n",
    "\n",
    "# DELETE DML Command\n",
    "# DELETE is a DML command which allows SQL users to remove single or multiple existing records from the database tables.\n",
    "# This command of Data Manipulation Language does not delete the stored data permanently from the database. We use the WHERE clause with the DELETE command to select specific rows from the table.\n",
    "# Syntax of DELETE Command\n",
    "# DELETE FROM Table_Name WHERE condition;  "
   ]
  },
  {
   "cell_type": "code",
   "execution_count": 7,
   "id": "6f5f0a32-439f-4bbb-9308-6ef5cf8ded28",
   "metadata": {},
   "outputs": [],
   "source": [
    "# Q4. What is DQL? Explain SELECT with an example.\n",
    "# SQL Commands\n",
    "# SQL commands are instructions. It is used to communicate with the database. It is also used to perform specific tasks, functions, and queries of data.\n",
    "# SQL can perform various tasks like create a table, add data to tables, drop the table, modify the table, set permission for users.\n",
    "# Types of SQL Commands\n",
    "# There are five types of SQL commands: DDL, DML, DCL, TCL, and DQL.\n",
    "\n",
    "# SQL SELECT Statement\n",
    "# The SELECT statement is the most commonly used command in Structured Query Language. It is used to access the records from one or more database tables and views. It also retrieves the selected data that follow the conditions we want.\n",
    "# By using this command, we can also access the particular record from the particular column of the table. The table which stores the record returned by the SELECT statement is called a result-set table.\n",
    "# Syntax of SELECT Statement in SQL\n",
    "# SELECT Column_Name_1, Column_Name_2, ....., Column_Name_N FROM Table_Name;"
   ]
  },
  {
   "cell_type": "code",
   "execution_count": null,
   "id": "ab481b6b-4763-4c22-98b2-cc6438ad2873",
   "metadata": {},
   "outputs": [],
   "source": []
  },
  {
   "cell_type": "code",
   "execution_count": 8,
   "id": "d1413fa6-ec0a-40bb-a7aa-778d9929d8bc",
   "metadata": {},
   "outputs": [],
   "source": [
    "# Q5. Explain Primary Key and Foreign Key."
   ]
  },
  {
   "cell_type": "code",
   "execution_count": 9,
   "id": "4b567482-0175-4099-9af3-ff6a8da5cab9",
   "metadata": {},
   "outputs": [],
   "source": [
    "# SQL FOREIGN KEY\n",
    "# In the relational databases, a foreign key is a field or a column that is used to establish a link between two tables.\n",
    "\n",
    "# In simple words you can say that, a foreign key in one table used to point primary key in another table.\n",
    "\n",
    "# Let us take an example to explain it:\n",
    "\n",
    "# Here are two tables first one is students table and second is orders table.\n",
    "\n",
    "# Here orders are given by students.\n",
    "\n",
    "# Primary key is always unique while foreign key can be duplicated.\n",
    "\n",
    "# Primary key uniquely identify a record in a table while foreign key is a field in a table that is primary key in another table.\n",
    "\n",
    "# There is only one primary key in the table on the other hand we can have more than one foreign key in the table.\n",
    "# CREATE TABLE orders  \n",
    "# (  \n",
    "# O_Id int NOT NULL,  \n",
    "# Order_No  int NOT NULL,  \n",
    "# S_Id int,  \n",
    "# PRIMAY KEY (O_Id),  \n",
    "# FOREIGN KEY (S_Id) REFERENCES Persons (S_Id)  \n",
    "# )  "
   ]
  },
  {
   "cell_type": "code",
   "execution_count": null,
   "id": "65db1ed0-c386-4c2c-bed6-c07ad27d1347",
   "metadata": {},
   "outputs": [],
   "source": []
  },
  {
   "cell_type": "code",
   "execution_count": null,
   "id": "fd00ac72-a0be-4b90-b363-b465d796ea2b",
   "metadata": {},
   "outputs": [],
   "source": [
    "# Q6. Write a python code to connect MySQL to python. Explain the cursor() and execute() method."
   ]
  },
  {
   "cell_type": "code",
   "execution_count": 11,
   "id": "d5420736-2132-4fdb-bd73-f7921f1d4da0",
   "metadata": {},
   "outputs": [],
   "source": [
    "# import mysql.connector\n",
    "# mydb=mysql.connector.connect(\n",
    "#     host='localhost',\n",
    "#     user='root',\n",
    "#     password='hufhfghhhhhfghhhfhfhh',\n",
    "#     database='maa')\n",
    "\n",
    "# Explain the cursor() and execute() method.\n",
    "# The MySQLCursor of mysql-connector-python (and similar libraries) is used to execute statements to communicate with the MySQL database.\n",
    "\n",
    "# Using the methods of it you can execute SQL statements, fetch data from the result sets, call procedures.\n",
    "\n",
    "# You can create Cursor object using the cursor() method of the Connection object/class."
   ]
  },
  {
   "cell_type": "code",
   "execution_count": null,
   "id": "b9a1b0fa-2974-412d-8d84-6c5e28898227",
   "metadata": {},
   "outputs": [],
   "source": []
  },
  {
   "cell_type": "code",
   "execution_count": 12,
   "id": "c6e86103-6abd-4a74-bcd4-cad1a173ec4a",
   "metadata": {},
   "outputs": [],
   "source": [
    "# Q7. Give the order of execution of SQL clauses in an SQL query.\n",
    "\n",
    "# SQL CLAUSES\n",
    "# SQL clause helps us to retrieve a set or bundles of records from the table.\n",
    "# SQL clause helps us to specify a condition on the columns or the records of a table.\n",
    "# Different clauses available in the Structured Query Language are as follows:\n",
    "\n",
    "# WHERE CLAUSE\n",
    "# GROUP BY CLAUSE\n",
    "# HAVING CLAUSE\n",
    "# ORDER BY CLAUSE\n",
    "\n",
    "#  WHERE CLAUSE\n",
    "# A WHERE clause in SQL is used with the SELECT query, which is one of the data manipulation language commands. WHERE clauses can be used to limit the number of rows to be displayed in the result set, it generally helps in filtering the records. It returns only those queries which fulfill the specific conditions of the WHERE clause. WHERE clause is used in SELECT, UPDATE, DELETE statement, etc.\n",
    "\n",
    "# WHERE clause with SELECT Query\n",
    "# Asterisk symbol is used with a WHERE clause in a SELECT query to retrieve all the column values for every record from a table."
   ]
  },
  {
   "cell_type": "code",
   "execution_count": null,
   "id": "b4c06858-5068-491f-8bea-c4d345cfb652",
   "metadata": {},
   "outputs": [],
   "source": []
  }
 ],
 "metadata": {
  "kernelspec": {
   "display_name": "Python 3 (ipykernel)",
   "language": "python",
   "name": "python3"
  },
  "language_info": {
   "codemirror_mode": {
    "name": "ipython",
    "version": 3
   },
   "file_extension": ".py",
   "mimetype": "text/x-python",
   "name": "python",
   "nbconvert_exporter": "python",
   "pygments_lexer": "ipython3",
   "version": "3.10.6"
  }
 },
 "nbformat": 4,
 "nbformat_minor": 5
}
